{
 "cells": [
  {
   "cell_type": "code",
   "execution_count": 5,
   "metadata": {},
   "outputs": [],
   "source": [
    "import numpy as np\n",
    "import matplotlib.pyplot as plt\n",
    "import statsmodels.api as sm \n",
    "import pandas as pd\n",
    "from patsy import dmatrices\n",
    "import statsmodels.api as sm "
   ]
  },
  {
   "cell_type": "code",
   "execution_count": 6,
   "metadata": {},
   "outputs": [],
   "source": [
    "def max_accuracy(accuracies, diagonal = True):\n",
    "    \"\"\"\n",
    "    Return the maximum accuracy for each session.\n",
    "    \"\"\"\n",
    "    # average over folds\n",
    "    avg = np.mean(accuracies, axis=1)\n",
    "\n",
    "    acc_max = []\n",
    "    for i in range(avg.shape[0]): # looping over sessions\n",
    "        if diagonal:\n",
    "            max_acc = np.max(avg[i].diagonal())\n",
    "        else:\n",
    "            max_acc = np.max(avg[i])\n",
    "        acc_max.append(max_acc)\n",
    "    \n",
    "    return acc_max"
   ]
  },
  {
   "attachments": {},
   "cell_type": "markdown",
   "metadata": {},
   "source": [
    "## Linear model to investigates the effects of the decoding strategy given the variablity of the ERF's"
   ]
  },
  {
   "cell_type": "code",
   "execution_count": 13,
   "metadata": {},
   "outputs": [
    {
     "name": "stderr",
     "output_type": "stream",
     "text": [
      "/Library/Frameworks/Python.framework/Versions/3.8/lib/python3.8/site-packages/scipy/stats/stats.py:1603: UserWarning: kurtosistest only valid for n>=20 ... continuing anyway, n=14\n",
      "  warnings.warn(\"kurtosistest only valid for n>=20 ... continuing \"\n"
     ]
    },
    {
     "data": {
      "text/html": [
       "<table class=\"simpletable\">\n",
       "<caption>OLS Regression Results</caption>\n",
       "<tr>\n",
       "  <th>Dep. Variable:</th>        <td>accuracy</td>     <th>  R-squared:         </th> <td>   0.024</td>\n",
       "</tr>\n",
       "<tr>\n",
       "  <th>Model:</th>                   <td>OLS</td>       <th>  Adj. R-squared:    </th> <td>  -0.057</td>\n",
       "</tr>\n",
       "<tr>\n",
       "  <th>Method:</th>             <td>Least Squares</td>  <th>  F-statistic:       </th> <td>  0.2976</td>\n",
       "</tr>\n",
       "<tr>\n",
       "  <th>Date:</th>             <td>Thu, 15 Dec 2022</td> <th>  Prob (F-statistic):</th>  <td> 0.595</td> \n",
       "</tr>\n",
       "<tr>\n",
       "  <th>Time:</th>                 <td>12:03:12</td>     <th>  Log-Likelihood:    </th> <td>  38.671</td>\n",
       "</tr>\n",
       "<tr>\n",
       "  <th>No. Observations:</th>      <td>    14</td>      <th>  AIC:               </th> <td>  -73.34</td>\n",
       "</tr>\n",
       "<tr>\n",
       "  <th>Df Residuals:</th>          <td>    12</td>      <th>  BIC:               </th> <td>  -72.06</td>\n",
       "</tr>\n",
       "<tr>\n",
       "  <th>Df Model:</th>              <td>     1</td>      <th>                     </th>     <td> </td>   \n",
       "</tr>\n",
       "<tr>\n",
       "  <th>Covariance Type:</th>      <td>nonrobust</td>    <th>                     </th>     <td> </td>   \n",
       "</tr>\n",
       "</table>\n",
       "<table class=\"simpletable\">\n",
       "<tr>\n",
       "        <td></td>          <th>coef</th>     <th>std err</th>      <th>t</th>      <th>P>|t|</th>  <th>[0.025</th>    <th>0.975]</th>  \n",
       "</tr>\n",
       "<tr>\n",
       "  <th>Intercept</th>    <td>    0.6606</td> <td>    0.006</td> <td>  106.037</td> <td> 0.000</td> <td>    0.647</td> <td>    0.674</td>\n",
       "</tr>\n",
       "<tr>\n",
       "  <th>strategy:std</th> <td>   -0.1433</td> <td>    0.263</td> <td>   -0.545</td> <td> 0.595</td> <td>   -0.716</td> <td>    0.429</td>\n",
       "</tr>\n",
       "</table>\n",
       "<table class=\"simpletable\">\n",
       "<tr>\n",
       "  <th>Omnibus:</th>       <td> 7.389</td> <th>  Durbin-Watson:     </th> <td>   2.641</td>\n",
       "</tr>\n",
       "<tr>\n",
       "  <th>Prob(Omnibus):</th> <td> 0.025</td> <th>  Jarque-Bera (JB):  </th> <td>   4.272</td>\n",
       "</tr>\n",
       "<tr>\n",
       "  <th>Skew:</th>          <td> 1.313</td> <th>  Prob(JB):          </th> <td>   0.118</td>\n",
       "</tr>\n",
       "<tr>\n",
       "  <th>Kurtosis:</th>      <td> 3.651</td> <th>  Cond. No.          </th> <td>    59.6</td>\n",
       "</tr>\n",
       "</table><br/><br/>Notes:<br/>[1] Standard Errors assume that the covariance matrix of the errors is correctly specified."
      ],
      "text/plain": [
       "<class 'statsmodels.iolib.summary.Summary'>\n",
       "\"\"\"\n",
       "                            OLS Regression Results                            \n",
       "==============================================================================\n",
       "Dep. Variable:               accuracy   R-squared:                       0.024\n",
       "Model:                            OLS   Adj. R-squared:                 -0.057\n",
       "Method:                 Least Squares   F-statistic:                    0.2976\n",
       "Date:                Thu, 15 Dec 2022   Prob (F-statistic):              0.595\n",
       "Time:                        12:03:12   Log-Likelihood:                 38.671\n",
       "No. Observations:                  14   AIC:                            -73.34\n",
       "Df Residuals:                      12   BIC:                            -72.06\n",
       "Df Model:                           1                                         \n",
       "Covariance Type:            nonrobust                                         \n",
       "================================================================================\n",
       "                   coef    std err          t      P>|t|      [0.025      0.975]\n",
       "--------------------------------------------------------------------------------\n",
       "Intercept        0.6606      0.006    106.037      0.000       0.647       0.674\n",
       "strategy:std    -0.1433      0.263     -0.545      0.595      -0.716       0.429\n",
       "==============================================================================\n",
       "Omnibus:                        7.389   Durbin-Watson:                   2.641\n",
       "Prob(Omnibus):                  0.025   Jarque-Bera (JB):                4.272\n",
       "Skew:                           1.313   Prob(JB):                        0.118\n",
       "Kurtosis:                       3.651   Cond. No.                         59.6\n",
       "==============================================================================\n",
       "\n",
       "Notes:\n",
       "[1] Standard Errors assume that the covariance matrix of the errors is correctly specified.\n",
       "\"\"\""
      ]
     },
     "execution_count": 13,
     "metadata": {},
     "output_type": "execute_result"
    }
   ],
   "source": [
    "lbo_file = 'accuracies_LDA_lbo'\n",
    "lbo = np.load(f'accuracies/{lbo_file}.npy')\n",
    "\n",
    "propb_file = 'accuracies_LDA_prop'\n",
    "propb = np.load(f'accuracies/{propb_file}.npy')\n",
    "\n",
    "lbo_acc = max_accuracy(lbo, diagonal = False)\n",
    "propb_acc = max_accuracy(propb, diagonal = False)\n",
    "\n",
    "# standard deviation within session\n",
    "std_sessions = np.load('../ERF_analysis/std_sessions.npy')\n",
    "# average over timepoints\n",
    "std_sessions = np.mean(std_sessions, axis=1)\n",
    "# standard deviation within session\n",
    "std_sessions = np.load('../ERF_analysis/std_sessions.npy')\n",
    "# average over timepoints\n",
    "std_sessions = np.mean(std_sessions, axis=1)\n",
    "\n",
    "### preparing design matrix ###\n",
    "strategy = np.array([0, 0, 0, 0, 0, 0, 0, 1, 1, 1, 1, 1, 1, 1])\n",
    "accuracy = np.array(lbo_acc + propb_acc)\n",
    "std = np.concatenate([std_sessions, std_sessions])\n",
    "\n",
    "# create the design matrix\n",
    "design = pd.DataFrame({'strategy': strategy, 'std': std, 'accuracy': accuracy})\n",
    "\n",
    "#y, X = dmatrices('accuracy ~ strategy + std + strategy:std', design)\n",
    "y, X = dmatrices('accuracy ~ strategy:std', design)\n",
    "mod = sm.OLS(y, X)\n",
    "res = mod.fit()\n",
    "res.summary()"
   ]
  },
  {
   "attachments": {},
   "cell_type": "markdown",
   "metadata": {},
   "source": [
    "### Difference in accuracy between the two strategies"
   ]
  },
  {
   "cell_type": "code",
   "execution_count": 16,
   "metadata": {},
   "outputs": [
    {
     "data": {
      "text/plain": [
       "Ttest_relResult(statistic=0.9144182373099055, pvalue=0.3957572642389497)"
      ]
     },
     "execution_count": 16,
     "metadata": {},
     "output_type": "execute_result"
    }
   ],
   "source": [
    "# do a t-test\n",
    "from scipy import stats\n",
    "stats.ttest_rel(lbo_acc, propb_acc)"
   ]
  },
  {
   "cell_type": "code",
   "execution_count": 12,
   "metadata": {},
   "outputs": [
    {
     "name": "stdout",
     "output_type": "stream",
     "text": [
      "session 1\n",
      "lbo: 0.6474582183941314\n",
      "prob: 0.6571200365721782\n",
      "Difference in accuracy:  0.009661818178046788\n",
      "session 2\n",
      "lbo: 0.6660547050595204\n",
      "prob: 0.6433623322871805\n",
      "Difference in accuracy:  -0.02269237277233982\n",
      "session 3\n",
      "lbo: 0.6518690993309011\n",
      "prob: 0.6590248883705563\n",
      "Difference in accuracy:  0.0071557890396551915\n",
      "session 4\n",
      "lbo: 0.6955834028060757\n",
      "prob: 0.688769695912553\n",
      "Difference in accuracy:  -0.006813706893522675\n",
      "session 5\n",
      "lbo: 0.6479796737972298\n",
      "prob: 0.6392038296800201\n",
      "Difference in accuracy:  -0.008775844117209664\n",
      "session 6\n",
      "lbo: 0.6527325385599785\n",
      "prob: 0.6490810152383935\n",
      "Difference in accuracy:  -0.0036515233215850262\n",
      "session 7\n",
      "lbo: 0.6587599474135505\n",
      "prob: 0.6577482557745716\n",
      "Difference in accuracy:  -0.001011691638978851\n"
     ]
    }
   ],
   "source": [
    "for i in range(len(lbo_acc)):\n",
    "    print(f'session {i+1}')\n",
    "    print(f'lbo: {lbo_acc[i]}')\n",
    "    print(f'prob: {propb_acc[i]}')\n",
    "    print('Difference in accuracy: ', propb_acc[i]- lbo_acc[i])"
   ]
  },
  {
   "attachments": {},
   "cell_type": "markdown",
   "metadata": {},
   "source": [
    "## Cross decoding"
   ]
  },
  {
   "cell_type": "code",
   "execution_count": 14,
   "metadata": {},
   "outputs": [],
   "source": [
    "file = 'cross_decoding_ncv_5'\n",
    "cross = np.load(f'accuracies/{file}.npy')"
   ]
  },
  {
   "cell_type": "code",
   "execution_count": 15,
   "metadata": {},
   "outputs": [
    {
     "data": {
      "text/html": [
       "<table class=\"simpletable\">\n",
       "<caption>OLS Regression Results</caption>\n",
       "<tr>\n",
       "  <th>Dep. Variable:</th>        <td>accuracy</td>     <th>  R-squared:         </th> <td>   0.267</td>\n",
       "</tr>\n",
       "<tr>\n",
       "  <th>Model:</th>                   <td>OLS</td>       <th>  Adj. R-squared:    </th> <td>   0.218</td>\n",
       "</tr>\n",
       "<tr>\n",
       "  <th>Method:</th>             <td>Least Squares</td>  <th>  F-statistic:       </th> <td>   5.451</td>\n",
       "</tr>\n",
       "<tr>\n",
       "  <th>Date:</th>             <td>Thu, 15 Dec 2022</td> <th>  Prob (F-statistic):</th>  <td>0.00277</td>\n",
       "</tr>\n",
       "<tr>\n",
       "  <th>Time:</th>                 <td>12:06:29</td>     <th>  Log-Likelihood:    </th> <td>  117.45</td>\n",
       "</tr>\n",
       "<tr>\n",
       "  <th>No. Observations:</th>      <td>    49</td>      <th>  AIC:               </th> <td>  -226.9</td>\n",
       "</tr>\n",
       "<tr>\n",
       "  <th>Df Residuals:</th>          <td>    45</td>      <th>  BIC:               </th> <td>  -219.3</td>\n",
       "</tr>\n",
       "<tr>\n",
       "  <th>Df Model:</th>              <td>     3</td>      <th>                     </th>     <td> </td>   \n",
       "</tr>\n",
       "<tr>\n",
       "  <th>Covariance Type:</th>      <td>nonrobust</td>    <th>                     </th>     <td> </td>   \n",
       "</tr>\n",
       "</table>\n",
       "<table class=\"simpletable\">\n",
       "<tr>\n",
       "           <td></td>             <th>coef</th>     <th>std err</th>      <th>t</th>      <th>P>|t|</th>  <th>[0.025</th>    <th>0.975]</th>  \n",
       "</tr>\n",
       "<tr>\n",
       "  <th>Intercept</th>          <td>    4.5849</td> <td>    1.207</td> <td>    3.800</td> <td> 0.000</td> <td>    2.155</td> <td>    7.015</td>\n",
       "</tr>\n",
       "<tr>\n",
       "  <th>std_train</th>          <td> -114.6061</td> <td>   35.987</td> <td>   -3.185</td> <td> 0.003</td> <td> -187.088</td> <td>  -42.124</td>\n",
       "</tr>\n",
       "<tr>\n",
       "  <th>std_test</th>           <td> -116.5259</td> <td>   35.987</td> <td>   -3.238</td> <td> 0.002</td> <td> -189.008</td> <td>  -44.044</td>\n",
       "</tr>\n",
       "<tr>\n",
       "  <th>std_train:std_test</th> <td> 3353.8137</td> <td> 1073.317</td> <td>    3.125</td> <td> 0.003</td> <td> 1192.043</td> <td> 5515.585</td>\n",
       "</tr>\n",
       "</table>\n",
       "<table class=\"simpletable\">\n",
       "<tr>\n",
       "  <th>Omnibus:</th>       <td>13.018</td> <th>  Durbin-Watson:     </th> <td>   1.860</td>\n",
       "</tr>\n",
       "<tr>\n",
       "  <th>Prob(Omnibus):</th> <td> 0.001</td> <th>  Jarque-Bera (JB):  </th> <td>  13.559</td>\n",
       "</tr>\n",
       "<tr>\n",
       "  <th>Skew:</th>          <td> 1.131</td> <th>  Prob(JB):          </th> <td> 0.00114</td>\n",
       "</tr>\n",
       "<tr>\n",
       "  <th>Kurtosis:</th>      <td> 4.234</td> <th>  Cond. No.          </th> <td>3.28e+05</td>\n",
       "</tr>\n",
       "</table><br/><br/>Notes:<br/>[1] Standard Errors assume that the covariance matrix of the errors is correctly specified.<br/>[2] The condition number is large, 3.28e+05. This might indicate that there are<br/>strong multicollinearity or other numerical problems."
      ],
      "text/plain": [
       "<class 'statsmodels.iolib.summary.Summary'>\n",
       "\"\"\"\n",
       "                            OLS Regression Results                            \n",
       "==============================================================================\n",
       "Dep. Variable:               accuracy   R-squared:                       0.267\n",
       "Model:                            OLS   Adj. R-squared:                  0.218\n",
       "Method:                 Least Squares   F-statistic:                     5.451\n",
       "Date:                Thu, 15 Dec 2022   Prob (F-statistic):            0.00277\n",
       "Time:                        12:06:29   Log-Likelihood:                 117.45\n",
       "No. Observations:                  49   AIC:                            -226.9\n",
       "Df Residuals:                      45   BIC:                            -219.3\n",
       "Df Model:                           3                                         \n",
       "Covariance Type:            nonrobust                                         \n",
       "======================================================================================\n",
       "                         coef    std err          t      P>|t|      [0.025      0.975]\n",
       "--------------------------------------------------------------------------------------\n",
       "Intercept              4.5849      1.207      3.800      0.000       2.155       7.015\n",
       "std_train           -114.6061     35.987     -3.185      0.003    -187.088     -42.124\n",
       "std_test            -116.5259     35.987     -3.238      0.002    -189.008     -44.044\n",
       "std_train:std_test  3353.8137   1073.317      3.125      0.003    1192.043    5515.585\n",
       "==============================================================================\n",
       "Omnibus:                       13.018   Durbin-Watson:                   1.860\n",
       "Prob(Omnibus):                  0.001   Jarque-Bera (JB):               13.559\n",
       "Skew:                           1.131   Prob(JB):                      0.00114\n",
       "Kurtosis:                       4.234   Cond. No.                     3.28e+05\n",
       "==============================================================================\n",
       "\n",
       "Notes:\n",
       "[1] Standard Errors assume that the covariance matrix of the errors is correctly specified.\n",
       "[2] The condition number is large, 3.28e+05. This might indicate that there are\n",
       "strong multicollinearity or other numerical problems.\n",
       "\"\"\""
      ]
     },
     "execution_count": 15,
     "metadata": {},
     "output_type": "execute_result"
    }
   ],
   "source": [
    "# list of 7 empty lists\n",
    "accuracies = []\n",
    "\n",
    "for i in range(7):\n",
    "    tmp = cross[i, :, :, :]\n",
    "    for j in range(7):\n",
    "        accuracies.append(np.max(tmp[j, :, :]))\n",
    "\n",
    "\n",
    "# standard deviation within session\n",
    "std_sessions = np.load('../ERF_analysis/std_sessions.npy')\n",
    "# average over timepoints\n",
    "std_sessions = np.mean(std_sessions, axis=1)\n",
    "# standard deviation within session\n",
    "std_sessions = np.load('../ERF_analysis/std_sessions.npy')\n",
    "# average over timepoints\n",
    "std_sessions = np.mean(std_sessions, axis=1)\n",
    "\n",
    "std_test = std_sessions.tolist()*7\n",
    "std_train = [std_sessions[i] for i in range(7) for j in range(7)]\n",
    "\n",
    "\n",
    "# create the design matrix\n",
    "design = pd.DataFrame({'std_test': std_test, 'std_train': std_train, 'accuracy': accuracies})\n",
    "\n",
    "y, X = dmatrices('accuracy ~ std_train + std_test + std_train:std_test', design)\n",
    "#y, X = dmatrices('accuracy ~ strategy:std', design)\n",
    "mod = sm.OLS(y, X)\n",
    "res = mod.fit()\n",
    "res.summary()"
   ]
  },
  {
   "cell_type": "markdown",
   "metadata": {},
   "source": [
    "# playground aka mess!!!"
   ]
  },
  {
   "cell_type": "code",
   "execution_count": null,
   "metadata": {},
   "outputs": [],
   "source": [
    "props = np.load('./accuracies/accuracies_LDA_props.npy', allow_pickle=True).squeeze() # proportional session\n",
    "\n",
    "for i in range(len(props)):\n",
    "    plt.imshow(props[i], cmap='viridis')\n",
    "    plt.show()"
   ]
  }
 ],
 "metadata": {
  "kernelspec": {
   "display_name": "Python 3",
   "language": "python",
   "name": "python3"
  },
  "language_info": {
   "codemirror_mode": {
    "name": "ipython",
    "version": 3
   },
   "file_extension": ".py",
   "mimetype": "text/x-python",
   "name": "python",
   "nbconvert_exporter": "python",
   "pygments_lexer": "ipython3",
   "version": "3.10.6 (main, Nov  2 2022, 18:53:38) [GCC 11.3.0]"
  },
  "orig_nbformat": 4,
  "vscode": {
   "interpreter": {
    "hash": "e7370f93d1d0cde622a1f8e1c04877d8463912d04d973331ad4851f04de6915a"
   }
  }
 },
 "nbformat": 4,
 "nbformat_minor": 2
}
