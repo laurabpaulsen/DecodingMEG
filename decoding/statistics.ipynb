{
 "cells": [
  {
   "cell_type": "code",
   "execution_count": 2,
   "metadata": {},
   "outputs": [],
   "source": [
    "import numpy as np\n",
    "import matplotlib.pyplot as plt\n",
    "import statsmodels.api as sm \n",
    "import pandas as pd\n",
    "from patsy import dmatrices\n",
    "import statsmodels.api as sm "
   ]
  },
  {
   "cell_type": "code",
   "execution_count": 3,
   "metadata": {},
   "outputs": [],
   "source": [
    "def max_accuracy(accuracies, diagonal = True):\n",
    "    \"\"\"\n",
    "    Return the maximum accuracy for each session.\n",
    "    \"\"\"\n",
    "    # average over folds\n",
    "    avg = np.mean(accuracies, axis=1)\n",
    "\n",
    "    acc_max = []\n",
    "    for i in range(avg.shape[0]): # looping over sessions\n",
    "        if diagonal:\n",
    "            max_acc = np.max(avg[i].diagonal())\n",
    "        else:\n",
    "            max_acc = np.max(avg[i])\n",
    "        acc_max.append(max_acc)\n",
    "    \n",
    "    return acc_max"
   ]
  },
  {
   "attachments": {},
   "cell_type": "markdown",
   "metadata": {},
   "source": [
    "## Linear model to investigates the effects of the decoding strategy given the variablity of the ERF's"
   ]
  },
  {
   "cell_type": "code",
   "execution_count": 4,
   "metadata": {},
   "outputs": [
    {
     "name": "stderr",
     "output_type": "stream",
     "text": [
      "/usr/local/share/anaconda3/envs/mne/lib/python3.10/site-packages/scipy/stats/_stats_py.py:1769: UserWarning: kurtosistest only valid for n>=20 ... continuing anyway, n=14\n",
      "  warnings.warn(\"kurtosistest only valid for n>=20 ... continuing \"\n"
     ]
    },
    {
     "data": {
      "text/html": [
       "<table class=\"simpletable\">\n",
       "<caption>OLS Regression Results</caption>\n",
       "<tr>\n",
       "  <th>Dep. Variable:</th>        <td>accuracy</td>     <th>  R-squared:         </th> <td>   0.003</td>\n",
       "</tr>\n",
       "<tr>\n",
       "  <th>Model:</th>                   <td>OLS</td>       <th>  Adj. R-squared:    </th> <td>  -0.080</td>\n",
       "</tr>\n",
       "<tr>\n",
       "  <th>Method:</th>             <td>Least Squares</td>  <th>  F-statistic:       </th> <td> 0.03737</td>\n",
       "</tr>\n",
       "<tr>\n",
       "  <th>Date:</th>             <td>Sat, 17 Dec 2022</td> <th>  Prob (F-statistic):</th>  <td> 0.850</td> \n",
       "</tr>\n",
       "<tr>\n",
       "  <th>Time:</th>                 <td>18:47:27</td>     <th>  Log-Likelihood:    </th> <td>  35.315</td>\n",
       "</tr>\n",
       "<tr>\n",
       "  <th>No. Observations:</th>      <td>    14</td>      <th>  AIC:               </th> <td>  -66.63</td>\n",
       "</tr>\n",
       "<tr>\n",
       "  <th>Df Residuals:</th>          <td>    12</td>      <th>  BIC:               </th> <td>  -65.35</td>\n",
       "</tr>\n",
       "<tr>\n",
       "  <th>Df Model:</th>              <td>     1</td>      <th>                     </th>     <td> </td>   \n",
       "</tr>\n",
       "<tr>\n",
       "  <th>Covariance Type:</th>      <td>nonrobust</td>    <th>                     </th>     <td> </td>   \n",
       "</tr>\n",
       "</table>\n",
       "<table class=\"simpletable\">\n",
       "<tr>\n",
       "        <td></td>          <th>coef</th>     <th>std err</th>      <th>t</th>      <th>P>|t|</th>  <th>[0.025</th>    <th>0.975]</th>  \n",
       "</tr>\n",
       "<tr>\n",
       "  <th>Intercept</th>    <td>    0.6689</td> <td>    0.008</td> <td>   84.507</td> <td> 0.000</td> <td>    0.652</td> <td>    0.686</td>\n",
       "</tr>\n",
       "<tr>\n",
       "  <th>strategy:std</th> <td>   -0.0661</td> <td>    0.342</td> <td>   -0.193</td> <td> 0.850</td> <td>   -0.811</td> <td>    0.679</td>\n",
       "</tr>\n",
       "</table>\n",
       "<table class=\"simpletable\">\n",
       "<tr>\n",
       "  <th>Omnibus:</th>       <td> 5.111</td> <th>  Durbin-Watson:     </th> <td>   1.887</td>\n",
       "</tr>\n",
       "<tr>\n",
       "  <th>Prob(Omnibus):</th> <td> 0.078</td> <th>  Jarque-Bera (JB):  </th> <td>   1.397</td>\n",
       "</tr>\n",
       "<tr>\n",
       "  <th>Skew:</th>          <td>-0.127</td> <th>  Prob(JB):          </th> <td>   0.497</td>\n",
       "</tr>\n",
       "<tr>\n",
       "  <th>Kurtosis:</th>      <td> 1.473</td> <th>  Cond. No.          </th> <td>    61.0</td>\n",
       "</tr>\n",
       "</table><br/><br/>Notes:<br/>[1] Standard Errors assume that the covariance matrix of the errors is correctly specified."
      ],
      "text/plain": [
       "<class 'statsmodels.iolib.summary.Summary'>\n",
       "\"\"\"\n",
       "                            OLS Regression Results                            \n",
       "==============================================================================\n",
       "Dep. Variable:               accuracy   R-squared:                       0.003\n",
       "Model:                            OLS   Adj. R-squared:                 -0.080\n",
       "Method:                 Least Squares   F-statistic:                   0.03737\n",
       "Date:                Sat, 17 Dec 2022   Prob (F-statistic):              0.850\n",
       "Time:                        18:47:27   Log-Likelihood:                 35.315\n",
       "No. Observations:                  14   AIC:                            -66.63\n",
       "Df Residuals:                      12   BIC:                            -65.35\n",
       "Df Model:                           1                                         \n",
       "Covariance Type:            nonrobust                                         \n",
       "================================================================================\n",
       "                   coef    std err          t      P>|t|      [0.025      0.975]\n",
       "--------------------------------------------------------------------------------\n",
       "Intercept        0.6689      0.008     84.507      0.000       0.652       0.686\n",
       "strategy:std    -0.0661      0.342     -0.193      0.850      -0.811       0.679\n",
       "==============================================================================\n",
       "Omnibus:                        5.111   Durbin-Watson:                   1.887\n",
       "Prob(Omnibus):                  0.078   Jarque-Bera (JB):                1.397\n",
       "Skew:                          -0.127   Prob(JB):                        0.497\n",
       "Kurtosis:                       1.473   Cond. No.                         61.0\n",
       "==============================================================================\n",
       "\n",
       "Notes:\n",
       "[1] Standard Errors assume that the covariance matrix of the errors is correctly specified.\n",
       "\"\"\""
      ]
     },
     "execution_count": 4,
     "metadata": {},
     "output_type": "execute_result"
    }
   ],
   "source": [
    "lbo_file = 'accuracies_LDA_lbo'\n",
    "lbo = np.load(f'accuracies/{lbo_file}.npy')\n",
    "\n",
    "propb_file = 'accuracies_LDA_prop'\n",
    "propb = np.load(f'accuracies/{propb_file}.npy')\n",
    "\n",
    "lbo_acc = max_accuracy(lbo, diagonal = False)\n",
    "propb_acc = max_accuracy(propb, diagonal = False)\n",
    "\n",
    "# standard deviation within session\n",
    "std_sessions = np.load('../ERF_analysis/std_sessions.npy')\n",
    "# average over timepoints\n",
    "std_sessions = np.mean(std_sessions, axis=1)\n",
    "# standard deviation within session\n",
    "std_sessions = np.load('../ERF_analysis/std_sessions.npy')\n",
    "# average over timepoints\n",
    "std_sessions = np.mean(std_sessions, axis=1)\n",
    "\n",
    "### preparing design matrix ###\n",
    "strategy = np.array([0, 0, 0, 0, 0, 0, 0, 1, 1, 1, 1, 1, 1, 1])\n",
    "accuracy = np.array(lbo_acc + propb_acc)\n",
    "std = np.concatenate([std_sessions, std_sessions])\n",
    "\n",
    "# create the design matrix\n",
    "design = pd.DataFrame({'strategy': strategy, 'std': std, 'accuracy': accuracy})\n",
    "\n",
    "#y, X = dmatrices('accuracy ~ strategy + std + strategy:std', design)\n",
    "y, X = dmatrices('accuracy ~ strategy:std', design)\n",
    "mod = sm.OLS(y, X)\n",
    "res = mod.fit()\n",
    "res.summary()"
   ]
  },
  {
   "attachments": {},
   "cell_type": "markdown",
   "metadata": {},
   "source": [
    "### Difference in accuracy between the two strategies"
   ]
  },
  {
   "cell_type": "code",
   "execution_count": 5,
   "metadata": {},
   "outputs": [
    {
     "data": {
      "text/plain": [
       "Ttest_relResult(statistic=0.7213417726468947, pvalue=0.49783205364773386)"
      ]
     },
     "execution_count": 5,
     "metadata": {},
     "output_type": "execute_result"
    }
   ],
   "source": [
    "# do a t-test\n",
    "from scipy import stats\n",
    "stats.ttest_rel(lbo_acc, propb_acc)"
   ]
  },
  {
   "cell_type": "code",
   "execution_count": 6,
   "metadata": {},
   "outputs": [
    {
     "name": "stdout",
     "output_type": "stream",
     "text": [
      "session 1\n",
      "lbo: 0.6382438817221426\n",
      "prob: 0.6446809718699119\n",
      "Difference in accuracy:  0.0064370901477692755\n",
      "session 2\n",
      "lbo: 0.6530919945045145\n",
      "prob: 0.6434490584598517\n",
      "Difference in accuracy:  -0.00964293604466282\n",
      "session 3\n",
      "lbo: 0.6892553867974042\n",
      "prob: 0.6852926808948178\n",
      "Difference in accuracy:  -0.003962705902586405\n",
      "session 4\n",
      "lbo: 0.6887538324473477\n",
      "prob: 0.6953585963501145\n",
      "Difference in accuracy:  0.006604763902766875\n",
      "session 5\n",
      "lbo: 0.6579143103024342\n",
      "prob: 0.6457431767887877\n",
      "Difference in accuracy:  -0.012171133513646515\n",
      "session 6\n",
      "lbo: 0.6824731102847893\n",
      "prob: 0.6849220375779516\n",
      "Difference in accuracy:  0.002448927293162262\n",
      "session 7\n",
      "lbo: 0.6724183095864511\n",
      "prob: 0.668452380952381\n",
      "Difference in accuracy:  -0.003965928634070082\n"
     ]
    }
   ],
   "source": [
    "for i in range(len(lbo_acc)):\n",
    "    print(f'session {i+1}')\n",
    "    print(f'lbo: {lbo_acc[i]}')\n",
    "    print(f'prob: {propb_acc[i]}')\n",
    "    print('Difference in accuracy: ', propb_acc[i]- lbo_acc[i])"
   ]
  },
  {
   "attachments": {},
   "cell_type": "markdown",
   "metadata": {},
   "source": [
    "## Cross decoding"
   ]
  },
  {
   "cell_type": "code",
   "execution_count": 12,
   "metadata": {},
   "outputs": [],
   "source": [
    "file_source = 'cross_decoding_ncv_5'\n",
    "cross_source = np.load(f'accuracies/{file_source}.npy')\n",
    "\n",
    "file_sens = 'cross_decoding_sens_ncv_5'\n",
    "cross_sens = np.load(f'accuracies/{file_sens}.npy')\n",
    "\n",
    "# list of 7 empty lists\n",
    "accuracies_source = []\n",
    "accuracies_sens = []\n",
    "\n",
    "for i in range(7):\n",
    "    tmp = cross_source[i, :, :, :]\n",
    "    for j in range(7):\n",
    "        accuracies_source.append(np.max(tmp[j, :, :]))\n",
    "\n",
    "for i in range(7):\n",
    "    tmp = cross_sens[i, :, :, :]\n",
    "    for j in range(7):\n",
    "        accuracies_sens.append(np.max(tmp[j, :, :]))\n"
   ]
  },
  {
   "cell_type": "code",
   "execution_count": 13,
   "metadata": {},
   "outputs": [
    {
     "data": {
      "text/plain": [
       "Ttest_relResult(statistic=-1.9453791904818427, pvalue=0.05759885085323554)"
      ]
     },
     "execution_count": 13,
     "metadata": {},
     "output_type": "execute_result"
    }
   ],
   "source": [
    "# do a t-test\n",
    "from scipy import stats\n",
    "stats.ttest_rel(accuracies_source, accuracies_sens)"
   ]
  },
  {
   "cell_type": "code",
   "execution_count": 16,
   "metadata": {},
   "outputs": [
    {
     "name": "stdout",
     "output_type": "stream",
     "text": [
      "0.6278882356002234\n",
      "0.6222184099805399\n"
     ]
    }
   ],
   "source": [
    "print(np.mean(accuracies_sens))\n",
    "print(np.mean(accuracies_source))"
   ]
  },
  {
   "cell_type": "code",
   "execution_count": 15,
   "metadata": {},
   "outputs": [
    {
     "data": {
      "text/html": [
       "<table class=\"simpletable\">\n",
       "<caption>OLS Regression Results</caption>\n",
       "<tr>\n",
       "  <th>Dep. Variable:</th>        <td>accuracy</td>     <th>  R-squared:         </th> <td>   0.267</td>\n",
       "</tr>\n",
       "<tr>\n",
       "  <th>Model:</th>                   <td>OLS</td>       <th>  Adj. R-squared:    </th> <td>   0.218</td>\n",
       "</tr>\n",
       "<tr>\n",
       "  <th>Method:</th>             <td>Least Squares</td>  <th>  F-statistic:       </th> <td>   5.451</td>\n",
       "</tr>\n",
       "<tr>\n",
       "  <th>Date:</th>             <td>Thu, 15 Dec 2022</td> <th>  Prob (F-statistic):</th>  <td>0.00277</td>\n",
       "</tr>\n",
       "<tr>\n",
       "  <th>Time:</th>                 <td>12:06:29</td>     <th>  Log-Likelihood:    </th> <td>  117.45</td>\n",
       "</tr>\n",
       "<tr>\n",
       "  <th>No. Observations:</th>      <td>    49</td>      <th>  AIC:               </th> <td>  -226.9</td>\n",
       "</tr>\n",
       "<tr>\n",
       "  <th>Df Residuals:</th>          <td>    45</td>      <th>  BIC:               </th> <td>  -219.3</td>\n",
       "</tr>\n",
       "<tr>\n",
       "  <th>Df Model:</th>              <td>     3</td>      <th>                     </th>     <td> </td>   \n",
       "</tr>\n",
       "<tr>\n",
       "  <th>Covariance Type:</th>      <td>nonrobust</td>    <th>                     </th>     <td> </td>   \n",
       "</tr>\n",
       "</table>\n",
       "<table class=\"simpletable\">\n",
       "<tr>\n",
       "           <td></td>             <th>coef</th>     <th>std err</th>      <th>t</th>      <th>P>|t|</th>  <th>[0.025</th>    <th>0.975]</th>  \n",
       "</tr>\n",
       "<tr>\n",
       "  <th>Intercept</th>          <td>    4.5849</td> <td>    1.207</td> <td>    3.800</td> <td> 0.000</td> <td>    2.155</td> <td>    7.015</td>\n",
       "</tr>\n",
       "<tr>\n",
       "  <th>std_train</th>          <td> -114.6061</td> <td>   35.987</td> <td>   -3.185</td> <td> 0.003</td> <td> -187.088</td> <td>  -42.124</td>\n",
       "</tr>\n",
       "<tr>\n",
       "  <th>std_test</th>           <td> -116.5259</td> <td>   35.987</td> <td>   -3.238</td> <td> 0.002</td> <td> -189.008</td> <td>  -44.044</td>\n",
       "</tr>\n",
       "<tr>\n",
       "  <th>std_train:std_test</th> <td> 3353.8137</td> <td> 1073.317</td> <td>    3.125</td> <td> 0.003</td> <td> 1192.043</td> <td> 5515.585</td>\n",
       "</tr>\n",
       "</table>\n",
       "<table class=\"simpletable\">\n",
       "<tr>\n",
       "  <th>Omnibus:</th>       <td>13.018</td> <th>  Durbin-Watson:     </th> <td>   1.860</td>\n",
       "</tr>\n",
       "<tr>\n",
       "  <th>Prob(Omnibus):</th> <td> 0.001</td> <th>  Jarque-Bera (JB):  </th> <td>  13.559</td>\n",
       "</tr>\n",
       "<tr>\n",
       "  <th>Skew:</th>          <td> 1.131</td> <th>  Prob(JB):          </th> <td> 0.00114</td>\n",
       "</tr>\n",
       "<tr>\n",
       "  <th>Kurtosis:</th>      <td> 4.234</td> <th>  Cond. No.          </th> <td>3.28e+05</td>\n",
       "</tr>\n",
       "</table><br/><br/>Notes:<br/>[1] Standard Errors assume that the covariance matrix of the errors is correctly specified.<br/>[2] The condition number is large, 3.28e+05. This might indicate that there are<br/>strong multicollinearity or other numerical problems."
      ],
      "text/plain": [
       "<class 'statsmodels.iolib.summary.Summary'>\n",
       "\"\"\"\n",
       "                            OLS Regression Results                            \n",
       "==============================================================================\n",
       "Dep. Variable:               accuracy   R-squared:                       0.267\n",
       "Model:                            OLS   Adj. R-squared:                  0.218\n",
       "Method:                 Least Squares   F-statistic:                     5.451\n",
       "Date:                Thu, 15 Dec 2022   Prob (F-statistic):            0.00277\n",
       "Time:                        12:06:29   Log-Likelihood:                 117.45\n",
       "No. Observations:                  49   AIC:                            -226.9\n",
       "Df Residuals:                      45   BIC:                            -219.3\n",
       "Df Model:                           3                                         \n",
       "Covariance Type:            nonrobust                                         \n",
       "======================================================================================\n",
       "                         coef    std err          t      P>|t|      [0.025      0.975]\n",
       "--------------------------------------------------------------------------------------\n",
       "Intercept              4.5849      1.207      3.800      0.000       2.155       7.015\n",
       "std_train           -114.6061     35.987     -3.185      0.003    -187.088     -42.124\n",
       "std_test            -116.5259     35.987     -3.238      0.002    -189.008     -44.044\n",
       "std_train:std_test  3353.8137   1073.317      3.125      0.003    1192.043    5515.585\n",
       "==============================================================================\n",
       "Omnibus:                       13.018   Durbin-Watson:                   1.860\n",
       "Prob(Omnibus):                  0.001   Jarque-Bera (JB):               13.559\n",
       "Skew:                           1.131   Prob(JB):                      0.00114\n",
       "Kurtosis:                       4.234   Cond. No.                     3.28e+05\n",
       "==============================================================================\n",
       "\n",
       "Notes:\n",
       "[1] Standard Errors assume that the covariance matrix of the errors is correctly specified.\n",
       "[2] The condition number is large, 3.28e+05. This might indicate that there are\n",
       "strong multicollinearity or other numerical problems.\n",
       "\"\"\""
      ]
     },
     "execution_count": 15,
     "metadata": {},
     "output_type": "execute_result"
    }
   ],
   "source": [
    "\n",
    "\n",
    "\n",
    "# standard deviation within session\n",
    "std_sessions = np.load('../ERF_analysis/std_sessions.npy')\n",
    "# average over timepoints\n",
    "std_sessions = np.mean(std_sessions, axis=1)\n",
    "# standard deviation within session\n",
    "std_sessions = np.load('../ERF_analysis/std_sessions.npy')\n",
    "# average over timepoints\n",
    "std_sessions = np.mean(std_sessions, axis=1)\n",
    "\n",
    "std_test = std_sessions.tolist()*7\n",
    "std_train = [std_sessions[i] for i in range(7) for j in range(7)]\n",
    "\n",
    "\n",
    "# create the design matrix\n",
    "design = pd.DataFrame({'std_test': std_test, 'std_train': std_train, 'accuracy': accuracies})\n",
    "\n",
    "y, X = dmatrices('accuracy ~ std_train + std_test + std_train:std_test', design)\n",
    "#y, X = dmatrices('accuracy ~ strategy:std', design)\n",
    "mod = sm.OLS(y, X)\n",
    "res = mod.fit()\n",
    "res.summary()"
   ]
  },
  {
   "cell_type": "markdown",
   "metadata": {},
   "source": [
    "# playground aka mess!!!"
   ]
  },
  {
   "cell_type": "code",
   "execution_count": null,
   "metadata": {},
   "outputs": [],
   "source": [
    "props = np.load('./accuracies/accuracies_LDA_props.npy', allow_pickle=True).squeeze() # proportional session\n",
    "\n",
    "for i in range(len(props)):\n",
    "    plt.imshow(props[i], cmap='viridis')\n",
    "    plt.show()"
   ]
  }
 ],
 "metadata": {
  "kernelspec": {
   "display_name": "Python 3.10.6 ('mne')",
   "language": "python",
   "name": "python3"
  },
  "language_info": {
   "codemirror_mode": {
    "name": "ipython",
    "version": 3
   },
   "file_extension": ".py",
   "mimetype": "text/x-python",
   "name": "python",
   "nbconvert_exporter": "python",
   "pygments_lexer": "ipython3",
   "version": "3.10.6"
  },
  "orig_nbformat": 4,
  "vscode": {
   "interpreter": {
    "hash": "2c6d417fafcf6fd95c2ae07c3da4aca22733dcf3570acef2375b4229f6bb883b"
   }
  }
 },
 "nbformat": 4,
 "nbformat_minor": 2
}
