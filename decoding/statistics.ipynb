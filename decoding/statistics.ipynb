{
 "cells": [
  {
   "cell_type": "code",
   "execution_count": 7,
   "metadata": {},
   "outputs": [],
   "source": [
    "import numpy as np\n",
    "import matplotlib.pyplot as plt\n",
    "import pandas as pd\n",
    "from scipy import stats"
   ]
  },
  {
   "cell_type": "code",
   "execution_count": 8,
   "metadata": {},
   "outputs": [],
   "source": [
    "def max_accuracy(accuracies, diagonal = True):\n",
    "    \"\"\"\n",
    "    Return the maximum accuracy for each session.\n",
    "    \"\"\"\n",
    "    # average over folds\n",
    "    avg = np.mean(accuracies, axis=1)\n",
    "\n",
    "    acc_max = []\n",
    "    for i in range(avg.shape[0]): # looping over sessions\n",
    "        if diagonal:\n",
    "            max_acc = np.max(avg[i].diagonal()*100)\n",
    "        else:\n",
    "            max_acc = np.max(avg[i]*100)\n",
    "        acc_max.append(max_acc)\n",
    "    \n",
    "    return acc_max"
   ]
  },
  {
   "attachments": {},
   "cell_type": "markdown",
   "metadata": {},
   "source": [
    "## Within session decoding"
   ]
  },
  {
   "attachments": {},
   "cell_type": "markdown",
   "metadata": {},
   "source": [
    "### Difference in accuracy between the two strategies"
   ]
  },
  {
   "cell_type": "code",
   "execution_count": 9,
   "metadata": {},
   "outputs": [
    {
     "name": "stdout",
     "output_type": "stream",
     "text": [
      "Ttest_relResult(statistic=1.4806748344263212, pvalue=0.18919355427264875)\n",
      "LBO: 66.40 +/- 2.11\n",
      "BS: 65.93 +/- 2.54\n"
     ]
    }
   ],
   "source": [
    "lbo_file  = 'accuracies_LDA_lbo'\n",
    "lbo = np.load(f'accuracies/{lbo_file}.npy', allow_pickle=True)\n",
    "\n",
    "\n",
    "bs_file = 'accuracies_LDA_prop'\n",
    "bs = np.load(f'accuracies/{bs_file}.npy', allow_pickle=True)\n",
    "\n",
    "lbo_acc = max_accuracy(lbo, diagonal = True)\n",
    "bs_acc = max_accuracy(bs, diagonal = True)\n",
    "\n",
    "\n",
    "# do a t-test\n",
    "print(stats.ttest_rel(lbo_acc, bs_acc))\n",
    "\n",
    "# print mean and std\n",
    "print(f'LBO: {np.mean(lbo_acc):.2f} +/- {np.std(lbo_acc):.2f}')\n",
    "print(f'BS: {np.mean(bs_acc):.2f} +/- {np.std(bs_acc):.2f}')"
   ]
  },
  {
   "attachments": {},
   "cell_type": "markdown",
   "metadata": {},
   "source": [
    "## Cross decoding"
   ]
  },
  {
   "cell_type": "code",
   "execution_count": 10,
   "metadata": {},
   "outputs": [],
   "source": [
    "file_source = 'cross_decoding_ncv_5'\n",
    "cross_source = np.load(f'accuracies/{file_source}.npy')\n",
    "\n",
    "file_sens = 'cross_decoding_sens_ncv_5'\n",
    "cross_sens = np.load(f'accuracies/{file_sens}.npy')\n",
    "\n",
    "# list of 7 empty lists\n",
    "accuracies_source = []\n",
    "accuracies_sens = []\n",
    "\n",
    "for i in range(7):\n",
    "    tmp_source = cross_source[i, :, :, :]\n",
    "    tmp_sens = cross_sens[i, :, :, :]\n",
    "\n",
    "    # remove the within session accuracies\n",
    "    tmp_source = np.delete(tmp_source, i, axis=0)\n",
    "    tmp_sens = np.delete(tmp_sens, i, axis=0)\n",
    "    for j in range(tmp_source.shape[0]):\n",
    "        accuracies_source.append(np.max(tmp_source[j, :, :])*100)\n",
    "        accuracies_sens.append(np.max(tmp_sens[j, :, :])*100)"
   ]
  },
  {
   "cell_type": "code",
   "execution_count": 11,
   "metadata": {},
   "outputs": [
    {
     "name": "stdout",
     "output_type": "stream",
     "text": [
      "Ttest_relResult(statistic=-2.623778764830078, pvalue=0.01215826551731701)\n",
      "Source: 61.60 +/- 1.50\n",
      "Sens: 62.40 +/- 1.62\n"
     ]
    }
   ],
   "source": [
    "# do a t-test\n",
    "print(stats.ttest_rel(accuracies_source, accuracies_sens))\n",
    "\n",
    "# print mean and std\n",
    "print(f'Source: {np.mean(accuracies_source):.2f} +/- {np.std(accuracies_source):.2f}')\n",
    "print(f'Sens: {np.mean(accuracies_sens):.2f} +/- {np.std(accuracies_sens):.2f}')"
   ]
  },
  {
   "cell_type": "markdown",
   "metadata": {},
   "source": [
    "# playground aka mess!!!"
   ]
  },
  {
   "cell_type": "code",
   "execution_count": null,
   "metadata": {},
   "outputs": [],
   "source": [
    "props = np.load('./accuracies/accuracies_LDA_props.npy', allow_pickle=True).squeeze() # proportional session\n",
    "\n",
    "for i in range(len(props)):\n",
    "    plt.imshow(props[i], cmap='viridis')\n",
    "    plt.show()"
   ]
  },
  {
   "cell_type": "code",
   "execution_count": null,
   "metadata": {},
   "outputs": [],
   "source": [
    "# standard deviation within session\n",
    "std_sessions = np.load('../ERF_analysis/std_sessions.npy')\n",
    "# average over timepoints\n",
    "std_sessions = np.mean(std_sessions, axis=1)\n",
    "# standard deviation within session\n",
    "std_sessions = np.load('../ERF_analysis/std_sessions.npy')\n",
    "# average over timepoints\n",
    "std_sessions = np.mean(std_sessions, axis=1)\n",
    "\n",
    "std_test = std_sessions.tolist()*7\n",
    "std_train = [std_sessions[i] for i in range(7) for j in range(7)]\n",
    "\n",
    "\n",
    "# create the design matrix\n",
    "design = pd.DataFrame({'std_test': std_test, 'std_train': std_train, 'accuracy': accuracies})\n",
    "\n",
    "y, X = dmatrices('accuracy ~ std_train + std_test + std_train:std_test', design)\n",
    "#y, X = dmatrices('accuracy ~ strategy:std', design)\n",
    "mod = sm.OLS(y, X)\n",
    "res = mod.fit()\n",
    "res.summary()"
   ]
  }
 ],
 "metadata": {
  "kernelspec": {
   "display_name": "mne",
   "language": "python",
   "name": "python3"
  },
  "language_info": {
   "codemirror_mode": {
    "name": "ipython",
    "version": 3
   },
   "file_extension": ".py",
   "mimetype": "text/x-python",
   "name": "python",
   "nbconvert_exporter": "python",
   "pygments_lexer": "ipython3",
   "version": "3.10.8 (main, Nov 24 2022, 08:09:04) [Clang 14.0.6 ]"
  },
  "orig_nbformat": 4,
  "vscode": {
   "interpreter": {
    "hash": "7e9fb600771b71f8a7b43a4180305f01d9a2f7fcef6626d8f6ee70d04e33c530"
   }
  }
 },
 "nbformat": 4,
 "nbformat_minor": 2
}
