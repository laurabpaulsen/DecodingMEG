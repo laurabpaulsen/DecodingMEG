{
 "cells": [
  {
   "cell_type": "code",
   "execution_count": 1,
   "metadata": {},
   "outputs": [],
   "source": [
    "import erf_plotting as et\n",
    "import numpy as np\n",
    "import scipy.stats as stats\n",
    "import matplotlib.pyplot as plt\n",
    "\n",
    "components = {'p1': {'tmin': 0.08, 'tmax': 0.120},\n",
    "            'n1': {'tmin': 0.130, 'tmax': 0.160},\n",
    "            'p3': {'tmin': 0.300, 'tmax': 0.400},\n",
    "            'n3': {'tmin': 0.500, 'tmax': 0.600},\n",
    "            'p5': {'tmin': 0.700, 'tmax': 0.800},\n",
    "            'n5': {'tmin': 0.900, 'tmax': 1.000}}"
   ]
  },
  {
   "cell_type": "code",
   "execution_count": null,
   "metadata": {},
   "outputs": [],
   "source": [
    "Xbin, ybin, sessioninds = et.load_data()\n",
    "Xbin[0].shape"
   ]
  },
  {
   "cell_type": "markdown",
   "metadata": {},
   "source": [
    "### T-test on the variability of the difference between animate vs inanimate"
   ]
  },
  {
   "cell_type": "code",
   "execution_count": null,
   "metadata": {},
   "outputs": [],
   "source": [
    "def conf_sesh_bin_list(X, y, sessioninds):\n",
    "    across_sesh = [[], [], [],[],[],[],[]] # 7 sessions in each list, first value in each list is the first bin\n",
    "    within_sesh = [[], [], [],[],[],[],[]] # 7 bins in each list, first value in each list is the first session\n",
    "    \n",
    "    for a in range(len(X)): # loop over bins\n",
    "        X_tmp = X[a]\n",
    "        y_tmp = y[a]\n",
    "        for b in range(len(X)): # loop over sessions\n",
    "            inds = np.where(sessioninds[a] == b)\n",
    "            sXtmp = X_tmp[:, inds, :].squeeze()\n",
    "            sytmp = y_tmp[inds]\n",
    "\n",
    "            animate_inds = (sytmp == 1)\n",
    "            animate_X = sXtmp[:, animate_inds, :]\n",
    "            inanimate_X = sXtmp[:, ~animate_inds, :]\n",
    "\n",
    "            # average across trials and sensors\n",
    "            animate_mean = np.mean(animate_X, axis = (1, 2))\n",
    "            inanimate_mean = np.mean(inanimate_X, axis = (1, 2))\n",
    "\n",
    "            across_sesh[a].append(animate_mean-inanimate_mean)\n",
    "            within_sesh[b].append(animate_mean-inanimate_mean)\n",
    "    \n",
    "    return across_sesh, within_sesh\n",
    "\n",
    "def std_list(list_of_means):\n",
    "    stds = []\n",
    "    for i in range(len(list_of_means)):\n",
    "        if i !=4:\n",
    "            stds.append(np.std(np.array(list_of_means[i]), axis=0))\n",
    "            \n",
    "    return stds\n",
    "\n",
    "def get_component_std(conf, tmin, tmax, sfreq):\n",
    "    stds = []\n",
    "    tmin = int(tmin*sfreq)\n",
    "    tmax = int(tmax*sfreq)\n",
    "    for i in range(len(conf)):\n",
    "        std_tmp = np.mean(conf[i][tmin:tmax], axis=0)\n",
    "        stds.append(std_tmp)\n",
    "\n",
    "    return stds"
   ]
  },
  {
   "cell_type": "code",
   "execution_count": null,
   "metadata": {},
   "outputs": [],
   "source": [
    "\n",
    "Xbin, ybin, sessioninds = et.load_data()\n",
    "\n",
    "across, within = conf_sesh_bin_list(Xbin, ybin, sessioninds)\n",
    "across_conf = std_list(across)\n",
    "within_conf = std_list(within)\n",
    "    \n",
    "for comp in components.keys():\n",
    "    conf_across = get_component_std(across_conf, components[comp]['tmin'], components[comp]['tmax'], 250)\n",
    "    conf_within = get_component_std(within_conf, components[comp]['tmin'], components[comp]['tmax'], 250)\n",
    "\n",
    "    t, p = stats.ttest_rel(conf_across, conf_within)\n",
    "    print(f'{comp}: {pick} t = {t}, p = {p}')\n",
    "\n",
    "    # plot the two distributions\n",
    "    fig, ax = plt.subplots()\n",
    "    ax.hist(conf_across, bins=20, alpha=0.5, label='across', color='blue')\n",
    "    ax.hist(conf_within, bins=20, alpha=0.5, label='within', color='red')"
   ]
  },
  {
   "cell_type": "markdown",
   "metadata": {},
   "source": [
    "### T-test on single trial variabilty"
   ]
  },
  {
   "cell_type": "code",
   "execution_count": null,
   "metadata": {},
   "outputs": [],
   "source": [
    "def variablity_over_trials(X, y, sessioninds):\n",
    "    across_sesh = [[], [], [],[],[],[],[]] # 7 sessions in each list, first value in each list is the first bin\n",
    "    within_sesh = [[], [], [],[],[],[],[]] # 7 bins in each list, first value in each list is the first session\n",
    "    \n",
    "    for a in range(len(X)): # loop over bins\n",
    "        X_tmp = X[a]\n",
    "        y_tmp = y[a]\n",
    "        for b in range(len(X)): # loop over sessions\n",
    "            inds = np.where(sessioninds[a] == b)\n",
    "            sXtmp = X_tmp[:, inds, :].squeeze()\n",
    "            #sytmp = y_tmp[inds]\n",
    "\n",
    "            #animate_inds = (sytmp == 1)\n",
    "            #animate_X = sXtmp[:, animate_inds, :]\n",
    "            #inanimate_X = sXtmp[:, ~animate_inds, :]\n",
    "\n",
    "            # average across sensors\n",
    "            all_mean = np.mean(sXtmp, axis = 2)\n",
    "            # standard deviation across trials\n",
    "            all_std = np.std(all_mean, axis = 1)\n",
    "\n",
    "            across_sesh[a].append(all_std)\n",
    "            within_sesh[b].append(all_std)\n",
    "\n",
    "    return across_sesh, within_sesh\n",
    "\n",
    "\n",
    "def get_component_std(std, tmin, tmax, sfreq):\n",
    "    stds = [[],[],[],[],[],[],[]]\n",
    "    tmin = int(tmin*sfreq)\n",
    "    tmax = int(tmax*sfreq)\n",
    "    \n",
    "    for i in range(len(std)):\n",
    "        for j in range(len(std[i])):\n",
    "            std_tmp = np.mean(std[i][j][tmin:tmax])\n",
    "            stds[i].append(std_tmp)\n",
    "\n",
    "    return stds"
   ]
  },
  {
   "cell_type": "code",
   "execution_count": null,
   "metadata": {},
   "outputs": [],
   "source": [
    "for pick in ['mag', 'grad']:\n",
    "    Xbin, ybin, sessioninds = et.load_data(pick)\n",
    "\n",
    "    across, within = variablity_over_trials(Xbin, ybin, sessioninds)\n",
    "    \n",
    "    for comp in components.keys():\n",
    "        conf_across = get_component_std(across, components[comp]['tmin'], components[comp]['tmax'], 250)\n",
    "        conf_within = get_component_std(within, components[comp]['tmin'], components[comp]['tmax'], 250)\n",
    "        \n",
    "        for i in range(len(conf_across)):\n",
    "            t, p = stats.ttest_rel(conf_across[i], conf_within[i])\n",
    "            print(f'{comp}, {i+1}: {pick} t = {t}, p = {p}')\n",
    "\n",
    "            # plot the two distributions\n",
    "            fig, ax = plt.subplots()\n",
    "            ax.hist(conf_across[i], bins=20, alpha=0.5, label='across', color='blue')\n",
    "            ax.hist(conf_within[i], bins=20, alpha=0.5, label='within', color='red')"
   ]
  },
  {
   "cell_type": "markdown",
   "metadata": {},
   "source": [
    "## NOT ANIMATE VS INANIMATE\n",
    "\n",
    "1. Create 7 matrices where each matrix contains only data from a certain bin or session (we have 14 matrices in total)\n",
    "2. In each of these matrices average over sensors, then take the standard deviation over the all the trials (So not divided into animate vs inanimate, since for us to take the difference in animate vs inanimate erps we need to average over trials at this stage. This makes us loose variability).\n",
    "    -> output is a vector with the length 250\n",
    "3. The mean is taken of these vectors from tmin to tmax of the component\n",
    "4. T test is done on these means (seven across trials, seven within trials)\n",
    "\n"
   ]
  },
  {
   "cell_type": "code",
   "execution_count": 7,
   "metadata": {},
   "outputs": [],
   "source": [
    "def get_X_within_across(X, y, sessioninds):\n",
    "    X_within = [] # within session\n",
    "    y_within = [] # within session\n",
    "    X_across = [X[0],X[1],X[2],X[3],X[4],X[5],X[6]] # across session\n",
    "    y_across = [y[0],y[1],y[2],y[3],y[4],y[5],y[6]] # across session\n",
    "\n",
    "    for a in range(len(X)): # loop over bins\n",
    "        X_tmp = np.array(X[a])\n",
    "        y_tmp = np.array(y[a])\n",
    "        for b in range(len(X)): # loop over sessions\n",
    "            inds = np.where(sessioninds[a] == b)\n",
    "            sXtmp = X_tmp[:, inds, :].squeeze()\n",
    "            sytmp = y_tmp[inds]\n",
    "            \n",
    "            if a == 0:\n",
    "                X_within.append(sXtmp)\n",
    "                y_within.append(sytmp)\n",
    "            else:\n",
    "                X_within[b] = np.concatenate((X_within[b], sXtmp), axis=1)\n",
    "                y_within[b] = np.concatenate((y_within[b], sytmp), axis=0)\n",
    "\n",
    "    return X_within, y_within, X_across, y_across\n",
    "\n",
    "def get_std(X, y):\n",
    "    stds = []\n",
    "    for i in range(len(X)):\n",
    "        # average across labels\n",
    "        all_mean = np.mean(X[i], axis = 2)\n",
    "\n",
    "        # standard deviation across trials of the difference\n",
    "        std = np.std(all_mean, axis = 1)\n",
    "        stds.append(std)\n",
    "    return stds\n",
    "\n",
    "def get_component_std(std, tmin, tmax, sfreq):\n",
    "    stds = []\n",
    "    tmin = int(tmin*sfreq)\n",
    "    tmax = int(tmax*sfreq)\n",
    "    \n",
    "    for i in range(len(std)):\n",
    "        #std_tmp = std[i][tmin:tmax]\n",
    "        std_tmp = np.mean(std[i][tmin:tmax])\n",
    "        if i != 4:\n",
    "            stds.append(std_tmp)\n",
    "\n",
    "    return stds\n",
    "\n",
    "\n"
   ]
  },
  {
   "cell_type": "markdown",
   "metadata": {},
   "source": [
    "# not animate inanimate"
   ]
  },
  {
   "cell_type": "code",
   "execution_count": 1,
   "metadata": {},
   "outputs": [],
   "source": [
    "import sys\n",
    "sys.path.append('../decoding/')\n",
    "from decoding_source import prep_data"
   ]
  },
  {
   "cell_type": "code",
   "execution_count": 3,
   "metadata": {},
   "outputs": [],
   "source": [
    "Xbin, ybin, Xsesh, ysesh = prep_data()\n",
    "# concatenate the data within session"
   ]
  },
  {
   "cell_type": "code",
   "execution_count": 11,
   "metadata": {},
   "outputs": [],
   "source": [
    "import numpy as np\n",
    "Xseshs = [np.concatenate(i, axis = 2) for i in Xsesh]\n",
    "Xseshs = [np.transpose(i.squeeze(), (2,0,1)) for i in Xseshs]"
   ]
  },
  {
   "cell_type": "code",
   "execution_count": 15,
   "metadata": {},
   "outputs": [],
   "source": [
    "yseshs = [np.concatenate(i, axis = 0) for i in ysesh]"
   ]
  },
  {
   "cell_type": "code",
   "execution_count": null,
   "metadata": {},
   "outputs": [],
   "source": [
    "#X_within, y_within, X_across, y_across = get_X_within_across(Xbin, ybin, sessioninds)\n",
    "std_bins = get_std(Xbin, ybin)\n",
    "std_session = get_std(Xsesh, ysesh)\n",
    "np.save('data/std_within.npy', std_session)\n",
    "\n",
    "fig, axs = plt.subplots(1,2, figsize=(20,10), sharey=True)\n",
    "for ax in axs:\n",
    "    if ax == axs[0]:\n",
    "        std = std_session\n",
    "        ax.set_title('Within session', fontsize=20)\n",
    "        for i in range(len(std)):\n",
    "            ax.plot(std[i], label=f'Session {i+1}', alpha=0.5)\n",
    "        ax.plot(np.mean(np.array(std), axis = 0), color='black', linewidth=3, label='Mean')\n",
    "        #ax.fill_between(np.arange(0, 250), np.mean(np.array(std), axis = 0) - np.std(np.array(std), axis = 0), np.mean(np.array(std), axis = 0) + np.std(np.array(std), axis = 0), color='black', alpha=0.2)\n",
    "\n",
    "    else:\n",
    "        std = std_bins\n",
    "        ax.set_title('Across session', fontsize=20)\n",
    "        for i in range(len(std)):\n",
    "            ax.plot(std[i], label=f'Bin {i+1}', alpha=0.5)\n",
    "        ax.plot(np.mean(np.array(std), axis = 0), color='black', linewidth=3, label='Mean')\n",
    "        #ax.fill_between(np.arange(0, 250), np.mean(np.array(std), axis = 0) - np.std(np.array(std), axis = 0), np.mean(np.array(std), axis = 0) + np.std(np.array(std), axis = 0), color='black', alpha=0.2)\n",
    "        \n",
    "    ax.legend(loc = 'upper right')\n",
    "\n",
    "for a in axs.flatten():\n",
    "    a.set_xticks(np.arange(0, 251, step=50), [0. , 0.2, 0.4, 0.6, 0.8, 1. ])\n",
    "    a.set_xlim(0, 250)\n",
    "\n",
    "# ylim\n",
    "#axs[0].set_ylim(0, 0.1)\n",
    "axs[0].set_ylabel('Standard deviation across trials', fontsize=16)"
   ]
  }
 ],
 "metadata": {
  "kernelspec": {
   "display_name": "Python 3.10.6 ('mne')",
   "language": "python",
   "name": "python3"
  },
  "language_info": {
   "codemirror_mode": {
    "name": "ipython",
    "version": 3
   },
   "file_extension": ".py",
   "mimetype": "text/x-python",
   "name": "python",
   "nbconvert_exporter": "python",
   "pygments_lexer": "ipython3",
   "version": "3.10.6"
  },
  "orig_nbformat": 4,
  "vscode": {
   "interpreter": {
    "hash": "2c6d417fafcf6fd95c2ae07c3da4aca22733dcf3570acef2375b4229f6bb883b"
   }
  }
 },
 "nbformat": 4,
 "nbformat_minor": 2
}
